{
 "cells": [
  {
   "attachments": {},
   "cell_type": "markdown",
   "metadata": {},
   "source": [
    "***Requirement***"
   ]
  },
  {
   "cell_type": "code",
   "execution_count": null,
   "metadata": {
    "vscode": {
     "languageId": "plaintext"
    }
   },
   "outputs": [],
   "source": [
    "# library\n",
    "from functools import *\n",
    "from pathlib import Path\n",
    "import json\n",
    "import os\n",
    "import random"
   ]
  },
  {
   "cell_type": "code",
   "execution_count": null,
   "metadata": {
    "vscode": {
     "languageId": "plaintext"
    }
   },
   "outputs": [],
   "source": [
    "class data_generator:\n",
    "   def __init__(self,school = \"\",grade_class = {},parent_dir = ''):\n",
    "      self.school = school\n",
    "      self.grade_class = grade_class\n",
    "      self.parent_dir = parent_dir\n",
    "      self.ID_school = 0\n",
    "\n",
    "   def create_foler(self):\n",
    "      self.school = \"Le Quy Don\"\n",
    "      self.grade_class = {\"10\":20, \"11\":18, \"12\":15}\n",
    "      self.parent_dir = \"../Generator/Data\"\n",
    "      for key,val in self.grade_class.items():\n",
    "         # Path\n",
    "         path = os.path.join(self.parent_dir, key)\n",
    "         # Create the directory\n",
    "         try:\n",
    "            os.makedirs(path, exist_ok = True)\n",
    "            print(\"Directory '%s' created successfully\" % key)\n",
    "         except OSError as error:\n",
    "            print(\"Directory '%s' can not be created\" % key)\n",
    "      \n",
    "   def generate_data_class(self):\n",
    "      self.ID_school += 1\n",
    "      if not bool(self.grade_class):\n",
    "         return None\n",
    "      grade,ordinal_numbers = random.choice(list(self.grade_class.items()))\n",
    "      if ordinal_numbers > 0:\n",
    "         student_total = random.randint(30,35)\n",
    "         self.grade_class[grade] = ordinal_numbers -1\n",
    "         for i in range(0,student_total+1):\n",
    "            percentage_avr = random.random()\n",
    "            overall = lambda x: random.uniform(0,5) if percentage_avr < 0.3 else random.uniform(5,10)\n",
    "            avr_score = overall(percentage_avr)\n",
    "            score = {\"Math\":avr_score, \"Physic\":avr_score, \"Chemistry\": avr_score, \"Literature\":avr_score, \"History\": avr_score, \"Geographic\": avr_score,\n",
    "                     \"English\": avr_score, \"Technique\": avr_score, \"Common Sense\": avr_score, \"Computer\": avr_score}\n",
    "            sub_higher = 10.0 - avr_score\n",
    "            sub_lower = avr_score - 10.0\n",
    "            while(sub_higher != 0 or sub_lower != 0 ):\n",
    "               alpha = random.random()\n",
    "               beta = random.random()\n",
    "               subject,subj_score = random.choice(list(score.items()))\n",
    "               subj_score = subj_score + alpha*sub_higher + beta*sub_lower\n",
    "               sub_higher = sub_higher - alpha*sub_higher\n",
    "               sub_lower = sub_lower - beta*sub_lower\n",
    "               score[subject] = subj_score\n",
    "            ## append ordinal_numbers to file\n",
    "            final = False\n",
    "            if i == student_total:\n",
    "               final = True\n",
    "            value_append_file = {\"School ID\": self.ID_school, \"Class ID\": i, \"Score\": score }\n",
    "            self.dump_data_to_file(grade,ordinal_numbers,value_append_file, final)\n",
    "      else:\n",
    "         del self.grade_class[grade]\n",
    "      return self.generate_data_class()          \n",
    "   def dump_data():\n",
    "      pass\n",
    "   def control_generator():\n",
    "      pass\n",
    "\n",
    "   def dump_data_to_file(self, grade, ordinal_numbers, value, final):\n",
    "      filename = Path(str(grade) + \"/\" + str(grade) + \"A\" + str(ordinal_numbers) + \".json\")\n",
    "      fileToOpen = \"Data\"/filename\n",
    "      if (os.path.exists(fileToOpen) == False):\n",
    "         with open(fileToOpen,\"a\") as file:\n",
    "            file.write('[')\n",
    "            json.dump(value, file, indent = 4)\n",
    "      else:\n",
    "         with open(fileToOpen,\"a+\") as file:\n",
    "            file.write(',')\n",
    "            json.dump(value, file, indent = 4)\n",
    "         if final:\n",
    "            with open(fileToOpen,\"a+\") as file:\n",
    "               file.write(']')\n",
    "\n",
    "generator = data_generator()\n",
    "generator.create_foler()\n",
    "generator.generate_data_class()    \n",
    "print(generator.grade_class)"
   ]
  },
  {
   "attachments": {},
   "cell_type": "markdown",
   "metadata": {},
   "source": [
    "***Ranking Student***"
   ]
  },
  {
   "cell_type": "code",
   "execution_count": null,
   "metadata": {
    "vscode": {
     "languageId": "plaintext"
    }
   },
   "outputs": [],
   "source": [
    "def ranking_student(student):\n",
    "    overall = sum(student[\"Score\"].values())/10\n",
    "    good = all(v > 6.5 for v in student[\"Score\"].values()) and (student[\"Score\"][\"Math\"]>6.5 or student[\"Score\"][\"Literature\"]>6.5 )\n",
    "    medium = all(v > 5 for v in student[\"Score\"].values()) and (student[\"Score\"][\"Math\"]>6.5 or student[\"Score\"][\"Literature\"]>6.5 )\n",
    "    weak = all(v > 3.5 for v in student[\"Score\"].values()) and (student[\"Score\"][\"Math\"]>6.5 or student[\"Score\"][\"Literature\"]>6.5 )\n",
    "    if overall > 8 and good:\n",
    "        student[\"rank\"] = \"good\"\n",
    "    elif overall > 6.5 and medium:\n",
    "        student[\"rank\"] = \"medium\"   \n",
    "    else: \n",
    "        student[\"rank\"] = \"weak\"\n",
    "    student[\"average\"] = overall\n",
    "    return student\n",
    "\n",
    "def Edit_student_rank():\n",
    "    students_rank = {\n",
    "        \"good\": 0\n",
    "        ,\"medium\": 0\n",
    "        ,\"weak\": 0\n",
    "    }\n",
    "    path = \"Data\"\n",
    "    dir_list = os.listdir(path)\n",
    "    for i in dir_list:\n",
    "        path_folder = path+\"/\"+i\n",
    "        folder_list = os.listdir(path_folder)\n",
    "        for j in folder_list:\n",
    "            file_path = Path(path_folder + \"/\" + j)\n",
    "            with open(file_path) as file:\n",
    "                data = json.load(file)\n",
    "            data = list(map(ranking_student,data))\n",
    "            with open(file_path,\"w+\") as file:\n",
    "                json.dump(data,file,indent=4)\n",
    "\n",
    "Edit_student_rank()"
   ]
  },
  {
   "attachments": {},
   "cell_type": "markdown",
   "metadata": {},
   "source": [
    "***Count Rank of student***"
   ]
  },
  {
   "cell_type": "code",
   "execution_count": null,
   "metadata": {
    "vscode": {
     "languageId": "plaintext"
    }
   },
   "outputs": [],
   "source": [
    "def Count_student_rank ():\n",
    "    students_rank = {\n",
    "        \"good\": 0\n",
    "        ,\"medium\": 0\n",
    "        ,\"weak\": 0\n",
    "    }\n",
    "    path = \"Data\"\n",
    "    dir_list = os.listdir(path)\n",
    "    for i in dir_list:\n",
    "        path_folder = path+\"/\"+i\n",
    "        folder_list = os.listdir(path_folder)\n",
    "        for j in folder_list:\n",
    "            file_path = path_folder + \"/\" + j\n",
    "            with open(file_path) as file:\n",
    "                data = json.load(file) \n",
    "                data = [students_rank] + data  \n",
    "            students_rank = reduce(increase_ranks, data)\n",
    "    return students_rank\n",
    "\n",
    "def increase_ranks(x, y):\n",
    "    for item in x.keys():\n",
    "        if y[\"rank\"] == item:\n",
    "            x[item] = x[item] + 1\n",
    "    return x\n",
    "count_student = Count_student_rank()"
   ]
  },
  {
   "attachments": {},
   "cell_type": "markdown",
   "metadata": {},
   "source": [
    "***Extract 3 File contain rank of each grade***"
   ]
  },
  {
   "cell_type": "code",
   "execution_count": null,
   "metadata": {
    "vscode": {
     "languageId": "plaintext"
    }
   },
   "outputs": [],
   "source": [
    "def stastic_collecting():\n",
    "    path = \"Data\"\n",
    "    dir_list = os.listdir(path)\n",
    "    for i in dir_list:\n",
    "        path_folder = path+\"/\"+i\n",
    "        folder_list = os.listdir(path_folder)\n",
    "        students = {\n",
    "        \"good\": []\n",
    "        ,\"medium\": []\n",
    "        ,\"weak\": []\n",
    "         }\n",
    "        for j in folder_list:\n",
    "            file_path = path_folder + \"/\" + j\n",
    "            with open(file_path) as file:\n",
    "                data = json.load(file) \n",
    "                data = [students] + data\n",
    "            students = reduce(increase_stastics, data)\n",
    "            for item in students.items():\n",
    "                result_path = path_folder + '/' + item[0]\n",
    "                with open(result_path, \"w+\") as file:\n",
    "                    json.dump(item[1],file,indent=4)\n",
    "def increase_stastics(x, y):\n",
    "    rank = y[\"rank\"]\n",
    "    x[rank].append(y)\n",
    "    return x\n",
    "\n",
    "stastic_collecting()"
   ]
  },
  {
   "attachments": {},
   "cell_type": "markdown",
   "metadata": {},
   "source": [
    "***Get 3 best student of each grade***"
   ]
  },
  {
   "cell_type": "code",
   "execution_count": null,
   "metadata": {
    "vscode": {
     "languageId": "plaintext"
    }
   },
   "outputs": [],
   "source": [
    "def stastic_collecting_best():\n",
    "    path = \"Data\"\n",
    "    dir_list = os.listdir(path)\n",
    "    students_ranking = {\n",
    "        \"10\": []\n",
    "        ,\"11\": []\n",
    "        ,\"12\": []\n",
    "         }\n",
    "    for i in dir_list:\n",
    "        path_file = path + '/' + i + \"/good\"\n",
    "        with open(path_file) as file:\n",
    "            data = json.load(file)\n",
    "        data.sort(key = lambda x: x['average'], reverse=True)\n",
    "        students_ranking[i].append(data[:3])\n",
    "    return students_ranking\n",
    "\n",
    "stastic_collecting_best()"
   ]
  }
 ],
 "metadata": {
  "language_info": {
   "name": "python"
  },
  "orig_nbformat": 4
 },
 "nbformat": 4,
 "nbformat_minor": 2
}
